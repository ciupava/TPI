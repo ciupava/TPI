{
  "cells": [
    {
      "cell_type": "raw",
      "metadata": {},
      "source": [
        "---\n",
        "title: \"Run TPI yourself: code walkthrough\"\n",
        "toc: true\n",
        "---"
      ],
      "id": "c5224672"
    },
    {
      "cell_type": "markdown",
      "metadata": {},
      "source": [
        "## 1st part of the code\n",
        "\n",
        "Bla bla\n",
        "\n",
        "examples\n",
        "\n",
        "function explanation\n",
        "\n",
        "## 2nd part of the code\n",
        "\n",
        "some beautiful plots\n"
      ],
      "id": "adedf38c"
    },
    {
      "cell_type": "code",
      "metadata": {},
      "source": [
        "#| label: fig-polar\n",
        "#| fig-cap: A line plot on a polar axis\n",
        "\n",
        "import numpy as np\n",
        "import matplotlib.pyplot as plt\n",
        "\n",
        "r = np.arange(0, 2, 0.01)\n",
        "theta = 2 * np.pi * r\n",
        "fig, ax = plt.subplots(\n",
        "  subplot_kw = {'projection': 'polar'} \n",
        ")\n",
        "ax.plot(theta, r)\n",
        "ax.set_rticks([0.5, 1, 1.5, 2])\n",
        "ax.grid(True)\n",
        "plt.show()"
      ],
      "id": "fig-polar",
      "execution_count": null,
      "outputs": []
    },
    {
      "cell_type": "markdown",
      "metadata": {},
      "source": [
        "Source of the code: [link](https://jthomasmock.github.io/quarto-in-two-hours/materials/01-intro-quarto.html#/code-more-than-just-r)\n",
        "\n",
        "## n-th part of the code\n",
        "\n",
        "I like TPI so much!"
      ],
      "id": "55d50cf2"
    }
  ],
  "metadata": {
    "kernelspec": {
      "name": "python3",
      "language": "python",
      "display_name": "Python 3 (ipykernel)"
    }
  },
  "nbformat": 4,
  "nbformat_minor": 5
}