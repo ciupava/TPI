{
  "cells": [
    {
      "cell_type": "raw",
      "id": "a5497a89",
      "metadata": {},
      "source": [
        "---\n",
        "title: \"Run TPI yourself: code walkthrough\"\n",
        "toc: true\n",
        "---"
      ]
    },
    {
      "cell_type": "markdown",
      "id": "5d1d22ae",
      "metadata": {},
      "source": [
        "## 1st part of the code\n",
        "\n",
        "Bla bla\n",
        "\n",
        "examples\n",
        "\n",
        "function explanation\n",
        "\n",
        "## 2nd part of the code\n",
        "\n",
        "some beautiful plots\n"
      ]
    },
    {
      "cell_type": "code",
      "execution_count": null,
      "id": "fig-polar",
      "metadata": {},
      "outputs": [],
      "source": [
        "#| label: fig-polar\n",
        "#| fig-cap: A line plot on a polar axis\n",
        "\n",
        "import numpy as np\n",
        "import matplotlib.pyplot as plt\n",
        "\n",
        "r = np.arange(0, 2, 0.01)\n",
        "theta = 2 * np.pi * r\n",
        "fig, ax = plt.subplots(\n",
        "  subplot_kw = {'projection': 'polar'} \n",
        ")\n",
        "ax.plot(theta, r)\n",
        "ax.set_rticks([0.5, 1, 1.5, 2])\n",
        "ax.grid(True)\n",
        "plt.show()"
      ]
    },
    {
      "cell_type": "markdown",
      "id": "0da59aaf",
      "metadata": {},
      "source": [
        "Source of the code: [link](https://jthomasmock.github.io/quarto-in-two-hours/materials/01-intro-quarto.html#/code-more-than-just-r)\n",
        "\n",
        "## n-th part of the code\n",
        "\n",
        "I like TPI so much!"
      ]
    }
  ],
  "metadata": {
    "kernelspec": {
      "display_name": "Python 3.9.6 64-bit",
      "language": "python",
      "name": "python3"
    },
    "language_info": {
      "name": "python",
      "version": "3.9.6"
    },
    "vscode": {
      "interpreter": {
        "hash": "ac2eaa0ea0ebeafcc7822e65e46aa9d4f966f30b695406963e145ea4a91cd4fc"
      }
    }
  },
  "nbformat": 4,
  "nbformat_minor": 5
}
